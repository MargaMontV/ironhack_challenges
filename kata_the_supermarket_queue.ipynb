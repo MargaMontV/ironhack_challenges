{
 "cells": [
  {
   "cell_type": "code",
   "execution_count": 1,
   "id": "db1e3d84",
   "metadata": {},
   "outputs": [],
   "source": [
    "# Step 1. Create a data structure that simulates the initial scenario (empty tills) \n",
    "\n",
    "# Step 2. Sorting the tills will give you the one with least waiting time at the zero position (first till)\n",
    "\n",
    "# Step 3. Add the time of every customer in the queue to the first till\n",
    "\n",
    "# Step 4. Return the maximum time from the final tills array"
   ]
  },
  {
   "cell_type": "code",
   "execution_count": null,
   "id": "51c01d85",
   "metadata": {},
   "outputs": [],
   "source": [
    "\"\"\"\n",
    "def queue_time(customers, n):\n",
    "    if customers == []:\n",
    "            return 0\n",
    "    for number in customers:\n",
    "        if len(customers) == 1:\n",
    "            return customers[0]\n",
    "        elif len(customers) > 1:\n",
    "            if n == 1:\n",
    "                return sum(customers)\n",
    "            elif n >= len(customers):\n",
    "                return max(customers)\n",
    "            else:\n",
    "                queue = [0] * n\n",
    "                queue = sorted(queue)\n",
    "                queue[0] += number\n",
    "                return max(queue) \n",
    "\"\"\""
   ]
  },
  {
   "cell_type": "code",
   "execution_count": 2,
   "id": "23ecf33a",
   "metadata": {},
   "outputs": [],
   "source": [
    "def queue_time(customers, n):\n",
    "    queue = [0] * n\n",
    "    for c in customers:\n",
    "        queue = sorted(queue)\n",
    "        queue[0] += c\n",
    "    return max(queue)"
   ]
  },
  {
   "cell_type": "code",
   "execution_count": 3,
   "id": "ea335d4a",
   "metadata": {},
   "outputs": [
    {
     "data": {
      "text/plain": [
       "9"
      ]
     },
     "execution_count": 3,
     "metadata": {},
     "output_type": "execute_result"
    }
   ],
   "source": [
    "queue_time([2,2,3,3,4,4], 2)"
   ]
  },
  {
   "cell_type": "code",
   "execution_count": null,
   "id": "bb0248ae",
   "metadata": {},
   "outputs": [],
   "source": []
  }
 ],
 "metadata": {
  "kernelspec": {
   "display_name": "Python [conda env:m1_env] *",
   "language": "python",
   "name": "conda-env-m1_env-py"
  },
  "language_info": {
   "codemirror_mode": {
    "name": "ipython",
    "version": 3
   },
   "file_extension": ".py",
   "mimetype": "text/x-python",
   "name": "python",
   "nbconvert_exporter": "python",
   "pygments_lexer": "ipython3",
   "version": "3.9.16"
  }
 },
 "nbformat": 4,
 "nbformat_minor": 5
}
