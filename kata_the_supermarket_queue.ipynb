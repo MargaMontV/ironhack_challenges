{
 "cells": [
  {
   "cell_type": "code",
   "execution_count": null,
   "id": "db1e3d84",
   "metadata": {},
   "outputs": [],
   "source": [
    "#"
   ]
  },
  {
   "cell_type": "code",
   "execution_count": 45,
   "id": "51c01d85",
   "metadata": {},
   "outputs": [],
   "source": [
    "def queue_time(customers, n):\n",
    "    if customers == []:\n",
    "            return 0\n",
    "    for number in customers:\n",
    "        if len(customers) == 1:\n",
    "            return customers[0]\n",
    "        elif len(customers) > 1:\n",
    "            if n == 1:\n",
    "                return sum(customers)\n",
    "            elif n >= len(customers):\n",
    "                return max(customers)\n",
    "            else:\n",
    "                queue = [0] * n\n",
    "                queue = sorted(queue)\n",
    "                queue[0] += number\n",
    "                return max(queue) "
   ]
  },
  {
   "cell_type": "code",
   "execution_count": 49,
   "id": "23ecf33a",
   "metadata": {},
   "outputs": [],
   "source": [
    "def queue_time(customers, n):\n",
    "    queue = [0 for i in range(n)]\n",
    "    for number in customers:\n",
    "        queue = sorted(queue)\n",
    "        queue[0] += number\n",
    "        return max(queue) "
   ]
  },
  {
   "cell_type": "code",
   "execution_count": 50,
   "id": "ea335d4a",
   "metadata": {},
   "outputs": [
    {
     "data": {
      "text/plain": [
       "1"
      ]
     },
     "execution_count": 50,
     "metadata": {},
     "output_type": "execute_result"
    }
   ],
   "source": [
    "queue_time([1, 2, 3, 1, 2, 3], 2)"
   ]
  },
  {
   "cell_type": "code",
   "execution_count": 17,
   "id": "a18e0fbb",
   "metadata": {},
   "outputs": [
    {
     "name": "stdout",
     "output_type": "stream",
     "text": [
      "Empty list\n"
     ]
    }
   ],
   "source": [
    "list = []\n",
    "if list == []:\n",
    "    print(\"Empty list\")"
   ]
  },
  {
   "cell_type": "code",
   "execution_count": null,
   "id": "bb0248ae",
   "metadata": {},
   "outputs": [],
   "source": []
  }
 ],
 "metadata": {
  "kernelspec": {
   "display_name": "Python [conda env:m1_env] *",
   "language": "python",
   "name": "conda-env-m1_env-py"
  },
  "language_info": {
   "codemirror_mode": {
    "name": "ipython",
    "version": 3
   },
   "file_extension": ".py",
   "mimetype": "text/x-python",
   "name": "python",
   "nbconvert_exporter": "python",
   "pygments_lexer": "ipython3",
   "version": "3.9.16"
  }
 },
 "nbformat": 4,
 "nbformat_minor": 5
}
