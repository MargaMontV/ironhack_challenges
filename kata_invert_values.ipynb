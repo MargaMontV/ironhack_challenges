{
 "cells": [
  {
   "cell_type": "code",
   "execution_count": 6,
   "id": "ca023208",
   "metadata": {},
   "outputs": [],
   "source": [
    "def invert(lst):\n",
    "    lst2 = []\n",
    "    for number in lst:\n",
    "        if number < 0:\n",
    "            lst2.append(-abs * number)\n",
    "        else:\n",
    "            lst2.append(abs * number)\n",
    "        return lst"
   ]
  },
  {
   "cell_type": "code",
   "execution_count": 7,
   "id": "72b9f4d6",
   "metadata": {},
   "outputs": [
    {
     "ename": "TypeError",
     "evalue": "unsupported operand type(s) for *: 'builtin_function_or_method' and 'int'",
     "output_type": "error",
     "traceback": [
      "\u001b[1;31m---------------------------------------------------------------------------\u001b[0m",
      "\u001b[1;31mTypeError\u001b[0m                                 Traceback (most recent call last)",
      "Cell \u001b[1;32mIn[7], line 1\u001b[0m\n\u001b[1;32m----> 1\u001b[0m \u001b[43minvert\u001b[49m\u001b[43m(\u001b[49m\u001b[43m[\u001b[49m\u001b[38;5;241;43m1\u001b[39;49m\u001b[43m,\u001b[49m\u001b[43m \u001b[49m\u001b[38;5;241;43m-\u001b[39;49m\u001b[38;5;241;43m1\u001b[39;49m\u001b[43m,\u001b[49m\u001b[43m \u001b[49m\u001b[38;5;241;43m2\u001b[39;49m\u001b[43m,\u001b[49m\u001b[43m \u001b[49m\u001b[38;5;241;43m-\u001b[39;49m\u001b[38;5;241;43m2\u001b[39;49m\u001b[43m,\u001b[49m\u001b[43m \u001b[49m\u001b[38;5;241;43m0\u001b[39;49m\u001b[43m]\u001b[49m\u001b[43m)\u001b[49m\n",
      "Cell \u001b[1;32mIn[6], line 7\u001b[0m, in \u001b[0;36minvert\u001b[1;34m(lst)\u001b[0m\n\u001b[0;32m      5\u001b[0m     lst2\u001b[38;5;241m.\u001b[39mappend(\u001b[38;5;241m-\u001b[39m\u001b[38;5;28mabs\u001b[39m \u001b[38;5;241m*\u001b[39m number)\n\u001b[0;32m      6\u001b[0m \u001b[38;5;28;01melse\u001b[39;00m:\n\u001b[1;32m----> 7\u001b[0m     lst2\u001b[38;5;241m.\u001b[39mappend(\u001b[38;5;28;43mabs\u001b[39;49m\u001b[43m \u001b[49m\u001b[38;5;241;43m*\u001b[39;49m\u001b[43m \u001b[49m\u001b[43mnumber\u001b[49m)\n\u001b[0;32m      8\u001b[0m \u001b[38;5;28;01mreturn\u001b[39;00m lst\n",
      "\u001b[1;31mTypeError\u001b[0m: unsupported operand type(s) for *: 'builtin_function_or_method' and 'int'"
     ]
    }
   ],
   "source": [
    "invert([1, -1, 2, -2, 0])"
   ]
  },
  {
   "cell_type": "code",
   "execution_count": 19,
   "id": "f9838b43",
   "metadata": {},
   "outputs": [],
   "source": [
    "def invert(lst):\n",
    "    lst2 = []\n",
    "    for i in lst:\n",
    "        if i > 0:\n",
    "            lst2.append(-abs(i))\n",
    "        else:\n",
    "            lst2.append(abs(i))\n",
    "    return(lst2)"
   ]
  },
  {
   "cell_type": "code",
   "execution_count": 20,
   "id": "34e0c5ca",
   "metadata": {},
   "outputs": [
    {
     "data": {
      "text/plain": [
       "[-1, 1, -2, 2, 0]"
      ]
     },
     "execution_count": 20,
     "metadata": {},
     "output_type": "execute_result"
    }
   ],
   "source": [
    "invert([1, -1, 2, -2, 0])"
   ]
  },
  {
   "cell_type": "code",
   "execution_count": null,
   "id": "2ed90294",
   "metadata": {},
   "outputs": [],
   "source": []
  }
 ],
 "metadata": {
  "kernelspec": {
   "display_name": "Python [conda env:m1_env] *",
   "language": "python",
   "name": "conda-env-m1_env-py"
  },
  "language_info": {
   "codemirror_mode": {
    "name": "ipython",
    "version": 3
   },
   "file_extension": ".py",
   "mimetype": "text/x-python",
   "name": "python",
   "nbconvert_exporter": "python",
   "pygments_lexer": "ipython3",
   "version": "3.9.16"
  }
 },
 "nbformat": 4,
 "nbformat_minor": 5
}
