{
 "cells": [
  {
   "cell_type": "code",
   "execution_count": 39,
   "id": "f8afa36e",
   "metadata": {},
   "outputs": [],
   "source": [
    "#Se parte de un número entero\n",
    "#transformar el número entero en string\n",
    "#for loop para números pares e impares\n",
    "#Eliminar de los pares los 2 números de en medio\n",
    "#Eliminar de los impares el número del medio\n",
    "#Sumar los números de la izquierda y los de la derecha\n",
    "#for loop si son = return Balanced\n",
    "#si son != return Not Balanced"
   ]
  },
  {
   "cell_type": "code",
   "execution_count": 2,
   "id": "050f6a07",
   "metadata": {},
   "outputs": [],
   "source": [
    "def balanced_num(number):\n",
    "    number_list = [int(i) for i in str(number)]\n",
    "    lenght = len(number_list)\n",
    "    if lenght %2 == 0:\n",
    "        middle_index1 = lenght//2-1\n",
    "        middle_index2 = lenght//2+1\n",
    "        first_half= number_list[:middle_index1]\n",
    "        second_half= number_list[middle_index2:]\n",
    "        first_half_sum= sum(first_half)\n",
    "        second_half_sum= sum(second_half)\n",
    "        if first_half_sum == second_half_sum:\n",
    "            return('Balanced')\n",
    "        else:\n",
    "            return('Not Balanced')\n",
    "    else:\n",
    "        middle_index1 = lenght//2\n",
    "        middle_index2 = lenght//2+1\n",
    "        first_half= number_list[:middle_index1]\n",
    "        second_half= number_list[middle_index2:]\n",
    "        first_half_sum= sum(first_half)\n",
    "        second_half_sum= sum(second_half)\n",
    "        if first_half_sum == second_half_sum:\n",
    "            return('Balanced')\n",
    "        else:\n",
    "            return('Not Balanced') "
   ]
  },
  {
   "cell_type": "code",
   "execution_count": 3,
   "id": "4372ae80",
   "metadata": {},
   "outputs": [
    {
     "data": {
      "text/plain": [
       "'Not balanced'"
      ]
     },
     "execution_count": 3,
     "metadata": {},
     "output_type": "execute_result"
    }
   ],
   "source": [
    "balanced_num(432)"
   ]
  },
  {
   "cell_type": "code",
   "execution_count": null,
   "id": "c45cb366",
   "metadata": {},
   "outputs": [],
   "source": []
  }
 ],
 "metadata": {
  "kernelspec": {
   "display_name": "Python [conda env:m1_env] *",
   "language": "python",
   "name": "conda-env-m1_env-py"
  },
  "language_info": {
   "codemirror_mode": {
    "name": "ipython",
    "version": 3
   },
   "file_extension": ".py",
   "mimetype": "text/x-python",
   "name": "python",
   "nbconvert_exporter": "python",
   "pygments_lexer": "ipython3",
   "version": "3.9.16"
  }
 },
 "nbformat": 4,
 "nbformat_minor": 5
}
