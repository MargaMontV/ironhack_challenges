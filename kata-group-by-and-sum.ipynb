{
 "cells": [
  {
   "cell_type": "code",
   "execution_count": 1,
   "id": "50c1cf68",
   "metadata": {},
   "outputs": [],
   "source": [
    "import pandas as pd"
   ]
  },
  {
   "cell_type": "code",
   "execution_count": null,
   "id": "71141881",
   "metadata": {},
   "outputs": [],
   "source": [
    "def group(arr, idx):\n",
    "    df.groupby(['idx']).sum()"
   ]
  },
  {
   "cell_type": "code",
   "execution_count": 2,
   "id": "d66528e6",
   "metadata": {},
   "outputs": [],
   "source": [
    "arr = [\n",
    "  [1, 6, 2, 10],\n",
    "  [8, 9, 4, 11],\n",
    "  [9, 8, 7, 12],\n",
    "  [1, 6, 3, 20],\n",
    "]\n",
    "\n",
    "idx = [0, 1]"
   ]
  },
  {
   "cell_type": "code",
   "execution_count": 7,
   "id": "520bb38c",
   "metadata": {
    "scrolled": true
   },
   "outputs": [
    {
     "name": "stdout",
     "output_type": "stream",
     "text": [
      "(1, 6)\n",
      "(8, 9)\n",
      "(9, 8)\n",
      "(1, 6)\n"
     ]
    }
   ],
   "source": [
    "dictionary = {}\n",
    "for pos in range(len(arr)):\n",
    "    tuple(arr[pos][i] for i in idx)\n",
    "    \n",
    "    \n",
    "\n"
   ]
  },
  {
   "cell_type": "code",
   "execution_count": null,
   "id": "c63a1926",
   "metadata": {},
   "outputs": [],
   "source": [
    "\"\"\"\n",
    "group(arr, idx) == {\n",
    "  (1, 6): [5, 30],      # [2 + 3, 10 + 20]\n",
    "  (8, 9): [4, 11],\n",
    "  (9, 8): [7, 12]\n",
    "}\n",
    "\"\"\""
   ]
  },
  {
   "cell_type": "code",
   "execution_count": null,
   "id": "ec928e4d",
   "metadata": {},
   "outputs": [],
   "source": []
  }
 ],
 "metadata": {
  "kernelspec": {
   "display_name": "Python [conda env:m1_env] *",
   "language": "python",
   "name": "conda-env-m1_env-py"
  },
  "language_info": {
   "codemirror_mode": {
    "name": "ipython",
    "version": 3
   },
   "file_extension": ".py",
   "mimetype": "text/x-python",
   "name": "python",
   "nbconvert_exporter": "python",
   "pygments_lexer": "ipython3",
   "version": "3.9.16"
  }
 },
 "nbformat": 4,
 "nbformat_minor": 5
}
