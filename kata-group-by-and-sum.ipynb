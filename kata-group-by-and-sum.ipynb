{
 "cells": [
  {
   "cell_type": "code",
   "execution_count": 28,
   "id": "50c1cf68",
   "metadata": {},
   "outputs": [],
   "source": [
    "import pandas as pd"
   ]
  },
  {
   "cell_type": "code",
   "execution_count": 27,
   "id": "4e3f9f7a",
   "metadata": {},
   "outputs": [],
   "source": [
    "def group(arr, idx):\n",
    "    not_idx = [n for n in range(len(arr[0])) if n not in idx]\n",
    "    l_not_idx = len(not_idx)\n",
    "    \n",
    "    dict_keys = [tuple([i[x] for x in idx]) for i in arr]\n",
    "    \n",
    "    uniq_keys = list(dict.fromkeys(dict_keys))\n",
    "    \n",
    "    dict_values = [[i[x] for x in not_idx] for i in arr]\n",
    "    \n",
    "    output = {}\n",
    "    \n",
    "    for i in uniq_keys:\n",
    "        output[i] = [0] * l_not_idx\n",
    "    \n",
    "    for i in range(len(dict_keys)):\n",
    "        for x in range(l_not_idx):\n",
    "            output[tuple(dict_keys[i])][x] = output[tuple(dict_keys[i])][x] + dict_values[i][x]\n",
    "    \n",
    "    \n",
    "    return output"
   ]
  },
  {
   "cell_type": "code",
   "execution_count": 2,
   "id": "71141881",
   "metadata": {},
   "outputs": [],
   "source": [
    "\"\"\"\n",
    "def group(arr, idx):\n",
    "    df.groupby(['idx']).sum()\n",
    "\"\"\""
   ]
  },
  {
   "cell_type": "code",
   "execution_count": 4,
   "id": "d66528e6",
   "metadata": {},
   "outputs": [],
   "source": [
    "\"\"\"\n",
    "arr = [\n",
    "  [1, 6, 2, 10],\n",
    "  [8, 9, 4, 11],\n",
    "  [9, 8, 7, 12],\n",
    "  [1, 6, 3, 20],\n",
    "]\n",
    "\n",
    "idx = [0, 1]\n",
    "\"\"\""
   ]
  },
  {
   "cell_type": "code",
   "execution_count": 6,
   "id": "61b00fc7",
   "metadata": {},
   "outputs": [],
   "source": [
    "#df = pd.DataFrame(arr)"
   ]
  },
  {
   "cell_type": "code",
   "execution_count": 7,
   "id": "46a98883",
   "metadata": {
    "scrolled": true
   },
   "outputs": [
    {
     "data": {
      "text/html": [
       "<div>\n",
       "<style scoped>\n",
       "    .dataframe tbody tr th:only-of-type {\n",
       "        vertical-align: middle;\n",
       "    }\n",
       "\n",
       "    .dataframe tbody tr th {\n",
       "        vertical-align: top;\n",
       "    }\n",
       "\n",
       "    .dataframe thead th {\n",
       "        text-align: right;\n",
       "    }\n",
       "</style>\n",
       "<table border=\"1\" class=\"dataframe\">\n",
       "  <thead>\n",
       "    <tr style=\"text-align: right;\">\n",
       "      <th></th>\n",
       "      <th></th>\n",
       "      <th>2</th>\n",
       "      <th>3</th>\n",
       "    </tr>\n",
       "    <tr>\n",
       "      <th>0</th>\n",
       "      <th>1</th>\n",
       "      <th></th>\n",
       "      <th></th>\n",
       "    </tr>\n",
       "  </thead>\n",
       "  <tbody>\n",
       "    <tr>\n",
       "      <th>1</th>\n",
       "      <th>6</th>\n",
       "      <td>5</td>\n",
       "      <td>30</td>\n",
       "    </tr>\n",
       "    <tr>\n",
       "      <th>8</th>\n",
       "      <th>9</th>\n",
       "      <td>4</td>\n",
       "      <td>11</td>\n",
       "    </tr>\n",
       "    <tr>\n",
       "      <th>9</th>\n",
       "      <th>8</th>\n",
       "      <td>7</td>\n",
       "      <td>12</td>\n",
       "    </tr>\n",
       "  </tbody>\n",
       "</table>\n",
       "</div>"
      ],
      "text/plain": [
       "     2   3\n",
       "0 1       \n",
       "1 6  5  30\n",
       "8 9  4  11\n",
       "9 8  7  12"
      ]
     },
     "execution_count": 7,
     "metadata": {},
     "output_type": "execute_result"
    }
   ],
   "source": [
    "#df2 = df.groupby(idx).sum()\n",
    "#df2"
   ]
  },
  {
   "cell_type": "code",
   "execution_count": 14,
   "id": "bb9d05e1",
   "metadata": {},
   "outputs": [
    {
     "data": {
      "text/plain": [
       "{(1, 6): {2: 5, 3: 30}, (8, 9): {2: 4, 3: 11}, (9, 8): {2: 7, 3: 12}}"
      ]
     },
     "execution_count": 14,
     "metadata": {},
     "output_type": "execute_result"
    }
   ],
   "source": [
    "#dictionary = df.groupby(idx).sum().to_dict(orient='index')\n",
    "#dictionary"
   ]
  },
  {
   "cell_type": "code",
   "execution_count": 9,
   "id": "61cc20a0",
   "metadata": {},
   "outputs": [
    {
     "data": {
      "text/plain": [
       "[[5, 30], [4, 11], [7, 12]]"
      ]
     },
     "execution_count": 9,
     "metadata": {},
     "output_type": "execute_result"
    }
   ],
   "source": [
    "#a = df2.values.tolist()\n",
    "#a"
   ]
  },
  {
   "cell_type": "code",
   "execution_count": 10,
   "id": "f95f249b",
   "metadata": {},
   "outputs": [
    {
     "data": {
      "text/plain": [
       "[(1, 6), (8, 9), (9, 8)]"
      ]
     },
     "execution_count": 10,
     "metadata": {},
     "output_type": "execute_result"
    }
   ],
   "source": [
    "#b = df2.index.tolist()\n",
    "#b"
   ]
  },
  {
   "cell_type": "code",
   "execution_count": 11,
   "id": "34d8dde2",
   "metadata": {},
   "outputs": [
    {
     "name": "stdout",
     "output_type": "stream",
     "text": [
      "{(1, 6): [5, 30], (8, 9): [4, 11], (9, 8): [7, 12]}\n"
     ]
    }
   ],
   "source": [
    "#x = zip(b, a)\n",
    "#print(dict(x))"
   ]
  },
  {
   "cell_type": "code",
   "execution_count": 12,
   "id": "857923da",
   "metadata": {},
   "outputs": [],
   "source": [
    "\"\"\"\n",
    "def group(arr, idx):\n",
    "    import pandas as pd\n",
    "    df = pd.DataFrame(arr)\n",
    "    df2 = df.groupby(idx).sum()\n",
    "    dictionary = df.groupby(idx).sum().to_dict(orient='index')\n",
    "    a = df2.values.tolist()\n",
    "    b = df2.index.tolist()\n",
    "    x = zip(b, a)\n",
    "    return (dict(x))\n",
    "\"\"\""
   ]
  },
  {
   "cell_type": "code",
   "execution_count": null,
   "id": "877a5594",
   "metadata": {},
   "outputs": [],
   "source": []
  },
  {
   "cell_type": "code",
   "execution_count": null,
   "id": "5db67e50",
   "metadata": {},
   "outputs": [],
   "source": []
  },
  {
   "cell_type": "code",
   "execution_count": null,
   "id": "2b3e02a3",
   "metadata": {},
   "outputs": [],
   "source": []
  },
  {
   "cell_type": "code",
   "execution_count": 26,
   "id": "520bb38c",
   "metadata": {
    "scrolled": true
   },
   "outputs": [
    {
     "name": "stdout",
     "output_type": "stream",
     "text": [
      "(1, 6)\n",
      "(8, 9)\n",
      "(9, 8)\n",
      "(1, 6)\n"
     ]
    }
   ],
   "source": [
    "\"\"\"\n",
    "for pos in range(len(arr)):\n",
    "    dict_keys = tuple(arr[pos][i] for i in idx)\n",
    "    print(dict_keys)\n",
    "\"\"\""
   ]
  },
  {
   "cell_type": "code",
   "execution_count": null,
   "id": "c63a1926",
   "metadata": {},
   "outputs": [],
   "source": [
    "\"\"\"\n",
    "group(arr, idx) == {\n",
    "  (1, 6): [5, 30],      # [2 + 3, 10 + 20]\n",
    "  (8, 9): [4, 11],\n",
    "  (9, 8): [7, 12]\n",
    "}\n",
    "\"\"\""
   ]
  },
  {
   "cell_type": "code",
   "execution_count": null,
   "id": "ec928e4d",
   "metadata": {},
   "outputs": [],
   "source": []
  }
 ],
 "metadata": {
  "kernelspec": {
   "display_name": "Python [conda env:m1_env] *",
   "language": "python",
   "name": "conda-env-m1_env-py"
  },
  "language_info": {
   "codemirror_mode": {
    "name": "ipython",
    "version": 3
   },
   "file_extension": ".py",
   "mimetype": "text/x-python",
   "name": "python",
   "nbconvert_exporter": "python",
   "pygments_lexer": "ipython3",
   "version": "3.9.16"
  }
 },
 "nbformat": 4,
 "nbformat_minor": 5
}
