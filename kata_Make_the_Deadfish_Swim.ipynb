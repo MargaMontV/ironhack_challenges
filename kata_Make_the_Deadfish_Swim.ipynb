{
 "cells": [
  {
   "cell_type": "code",
   "execution_count": null,
   "id": "96cba2e0",
   "metadata": {},
   "outputs": [],
   "source": [
    "# Poner un contador a 0\n",
    "# Crear una lista vacía\n",
    "# Crear un for loop para añadir las asepciones\n",
    "# Hacer un condicional para el valor i + 1\n",
    "# Hacer un condicional para el valor d - 1\n",
    "# Hacer un condicional para el valor s ** 2\n",
    "# Hacer un condicional para el valor o .append el valor anterior\n",
    "# Devolver la lista"
   ]
  },
  {
   "cell_type": "code",
   "execution_count": 16,
   "id": "d51ff9c1",
   "metadata": {},
   "outputs": [],
   "source": [
    "def parse(data):\n",
    "    count = 0\n",
    "    list_1 = []\n",
    "    for letter in data:\n",
    "        if letter == \"i\":\n",
    "            count = count+1\n",
    "        if letter == \"d\":\n",
    "             count = count- 1\n",
    "        if letter == \"s\":\n",
    "             count = count** 2\n",
    "        if letter == \"o\":\n",
    "            list_1.append(count)\n",
    "    return list_1        "
   ]
  },
  {
   "cell_type": "code",
   "execution_count": 17,
   "id": "e365b034",
   "metadata": {},
   "outputs": [
    {
     "data": {
      "text/plain": [
       "[8, 64]"
      ]
     },
     "execution_count": 17,
     "metadata": {},
     "output_type": "execute_result"
    }
   ],
   "source": [
    "parse(\"iiisdoso\")"
   ]
  },
  {
   "cell_type": "code",
   "execution_count": null,
   "id": "eb8353ad",
   "metadata": {},
   "outputs": [],
   "source": []
  }
 ],
 "metadata": {
  "kernelspec": {
   "display_name": "Python [conda env:m1_env] *",
   "language": "python",
   "name": "conda-env-m1_env-py"
  },
  "language_info": {
   "codemirror_mode": {
    "name": "ipython",
    "version": 3
   },
   "file_extension": ".py",
   "mimetype": "text/x-python",
   "name": "python",
   "nbconvert_exporter": "python",
   "pygments_lexer": "ipython3",
   "version": "3.9.16"
  }
 },
 "nbformat": 4,
 "nbformat_minor": 5
}
