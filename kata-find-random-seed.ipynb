{
 "cells": [
  {
   "cell_type": "code",
   "execution_count": 11,
   "id": "ab1aad69",
   "metadata": {},
   "outputs": [],
   "source": [
    "from random import seed, randint"
   ]
  },
  {
   "cell_type": "code",
   "execution_count": 14,
   "id": "0b2e6f86",
   "metadata": {},
   "outputs": [],
   "source": [
    "def find_random_seed(lst):\n",
    "    for s in range(10000):\n",
    "        seed(s)\n",
    "        if [randint(0, 100) for _ in range(10)] == lst:\n",
    "            return s        "
   ]
  },
  {
   "cell_type": "code",
   "execution_count": 15,
   "id": "fafc0f6a",
   "metadata": {},
   "outputs": [
    {
     "data": {
      "text/plain": [
       "1"
      ]
     },
     "execution_count": 15,
     "metadata": {},
     "output_type": "execute_result"
    }
   ],
   "source": [
    "find_random_seed([17, 72, 97, 8, 32, 15, 63, 97, 57, 60])"
   ]
  },
  {
   "cell_type": "code",
   "execution_count": null,
   "id": "dcfb22a3",
   "metadata": {},
   "outputs": [],
   "source": []
  }
 ],
 "metadata": {
  "kernelspec": {
   "display_name": "Python [conda env:m3_env]",
   "language": "python",
   "name": "conda-env-m3_env-py"
  },
  "language_info": {
   "codemirror_mode": {
    "name": "ipython",
    "version": 3
   },
   "file_extension": ".py",
   "mimetype": "text/x-python",
   "name": "python",
   "nbconvert_exporter": "python",
   "pygments_lexer": "ipython3",
   "version": "3.9.16"
  }
 },
 "nbformat": 4,
 "nbformat_minor": 5
}
