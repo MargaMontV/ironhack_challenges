{
 "cells": [
  {
   "cell_type": "code",
   "execution_count": null,
   "id": "0eed694b",
   "metadata": {},
   "outputs": [],
   "source": [
    "#Crear una variable con la palabra 'english' en minúsculas\n",
    "#Crear una subvariable para convertir todo el string a minúsculas\n",
    "#comparamos la subvariable en minúsculas con la palabra para ver si la contiene\n",
    "#Devolver True si la contiene or False si no"
   ]
  },
  {
   "cell_type": "code",
   "execution_count": 36,
   "id": "51ed27c2",
   "metadata": {},
   "outputs": [],
   "source": [
    "def sp_eng(sentence):\n",
    "    word = 'english'\n",
    "    sentence_lower = sentence.lower()    \n",
    "    if word in sentence_lower:\n",
    "        return True\n",
    "    else:\n",
    "        return False"
   ]
  },
  {
   "cell_type": "code",
   "execution_count": 37,
   "id": "2fc53151",
   "metadata": {},
   "outputs": [
    {
     "data": {
      "text/plain": [
       "'1234egn lis;h'"
      ]
     },
     "execution_count": 37,
     "metadata": {},
     "output_type": "execute_result"
    }
   ],
   "source": [
    "input_sentence = \"1234egn lis;h\"\n",
    "input_sentence"
   ]
  },
  {
   "cell_type": "code",
   "execution_count": 38,
   "id": "b491629f",
   "metadata": {},
   "outputs": [
    {
     "data": {
      "text/plain": [
       "False"
      ]
     },
     "execution_count": 38,
     "metadata": {},
     "output_type": "execute_result"
    }
   ],
   "source": [
    "sp_eng(input_sentence)"
   ]
  },
  {
   "cell_type": "code",
   "execution_count": null,
   "id": "5795de47",
   "metadata": {},
   "outputs": [],
   "source": []
  }
 ],
 "metadata": {
  "kernelspec": {
   "display_name": "Python [conda env:m1_env] *",
   "language": "python",
   "name": "conda-env-m1_env-py"
  },
  "language_info": {
   "codemirror_mode": {
    "name": "ipython",
    "version": 3
   },
   "file_extension": ".py",
   "mimetype": "text/x-python",
   "name": "python",
   "nbconvert_exporter": "python",
   "pygments_lexer": "ipython3",
   "version": "3.9.16"
  }
 },
 "nbformat": 4,
 "nbformat_minor": 5
}
