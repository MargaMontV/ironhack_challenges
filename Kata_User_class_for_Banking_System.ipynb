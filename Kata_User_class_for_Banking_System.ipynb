{
 "cells": [
  {
   "cell_type": "code",
   "execution_count": 1,
   "id": "6a13c808",
   "metadata": {},
   "outputs": [],
   "source": [
    "class User(object):\n",
    "    def __init__(self, name, balance, checking_account):\n",
    "        self.name = name\n",
    "        self.balance = balance\n",
    "        self.checking_account = checking_account\n",
    "    def withdraw (self, substract):\n",
    "        if self.balance >= substract: \n",
    "            self.balance = self.balance - substract\n",
    "            return f\"{self.name} has {self.balance}.\"  \n",
    "        else:\n",
    "            raise ValueError(f\"There isn't enough money to withdraw.\") \n",
    "    def check(self, other_user, add):\n",
    "        if other_user.checking_account == False:\n",
    "            raise ValueError(f\"Checking_account isn't true for {other_user.name}.\")\n",
    "        elif other_user.balance >= add: \n",
    "            other_user.balance = other_user.balance - add\n",
    "            self.balance = self.balance + add\n",
    "            return f\"{self.name} has {self.balance} and {other_user.name} has {other_user.balance}.\"  \n",
    "        else:\n",
    "            raise ValueError(f\"There isn't enough money to withdraw.\") \n",
    "    def add_cash(self, money):\n",
    "        self.balance = self.balance + money\n",
    "        return f\"{self.name} has {self.balance}.\"  "
   ]
  },
  {
   "cell_type": "code",
   "execution_count": 2,
   "id": "2f76f409",
   "metadata": {},
   "outputs": [],
   "source": [
    "Pepe = User(name = \"Pepe\", balance = 100, checking_account = True)"
   ]
  },
  {
   "cell_type": "code",
   "execution_count": 3,
   "id": "44fc5fe4",
   "metadata": {},
   "outputs": [],
   "source": [
    "Juan = User(name = \"Juan\", balance = 500, checking_account = True)"
   ]
  },
  {
   "cell_type": "code",
   "execution_count": 4,
   "id": "85fc31c0",
   "metadata": {
    "scrolled": true
   },
   "outputs": [
    {
     "data": {
      "text/plain": [
       "'Pepe has 130 and Juan has 470.'"
      ]
     },
     "execution_count": 4,
     "metadata": {},
     "output_type": "execute_result"
    }
   ],
   "source": [
    "Pepe.check(Juan, 30)"
   ]
  },
  {
   "cell_type": "code",
   "execution_count": 5,
   "id": "7674a830",
   "metadata": {},
   "outputs": [
    {
     "data": {
      "text/plain": [
       "'Pepe has 100.'"
      ]
     },
     "execution_count": 5,
     "metadata": {},
     "output_type": "execute_result"
    }
   ],
   "source": [
    "Pepe.withdraw(30)"
   ]
  },
  {
   "cell_type": "code",
   "execution_count": 6,
   "id": "93f59eed",
   "metadata": {},
   "outputs": [
    {
     "data": {
      "text/plain": [
       "'Pepe has 200.'"
      ]
     },
     "execution_count": 6,
     "metadata": {},
     "output_type": "execute_result"
    }
   ],
   "source": [
    "Pepe.add_cash(100)"
   ]
  },
  {
   "cell_type": "code",
   "execution_count": null,
   "id": "e53c2225",
   "metadata": {},
   "outputs": [],
   "source": []
  }
 ],
 "metadata": {
  "kernelspec": {
   "display_name": "Python [conda env:m1_env] *",
   "language": "python",
   "name": "conda-env-m1_env-py"
  },
  "language_info": {
   "codemirror_mode": {
    "name": "ipython",
    "version": 3
   },
   "file_extension": ".py",
   "mimetype": "text/x-python",
   "name": "python",
   "nbconvert_exporter": "python",
   "pygments_lexer": "ipython3",
   "version": "3.9.16"
  }
 },
 "nbformat": 4,
 "nbformat_minor": 5
}
