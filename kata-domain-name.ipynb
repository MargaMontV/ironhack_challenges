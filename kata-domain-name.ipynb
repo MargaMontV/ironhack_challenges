{
 "cells": [
  {
   "cell_type": "code",
   "execution_count": null,
   "id": "fa05110b",
   "metadata": {},
   "outputs": [],
   "source": [
    "#split // and grab [-1]\n",
    "#split www. of [-1] and grab the new [-1]\n",
    "#split . and grab [0]\n",
    "#Return [0]"
   ]
  },
  {
   "cell_type": "code",
   "execution_count": 18,
   "id": "aca63694",
   "metadata": {},
   "outputs": [],
   "source": [
    "def domain_name(url):\n",
    "    return url.split(\"//\")[-1].split(\"www.\")[-1].split(\".\")[0]          "
   ]
  },
  {
   "cell_type": "code",
   "execution_count": 19,
   "id": "1c8fea26",
   "metadata": {
    "scrolled": true
   },
   "outputs": [
    {
     "data": {
      "text/plain": [
       "'xakep'"
      ]
     },
     "execution_count": 19,
     "metadata": {},
     "output_type": "execute_result"
    }
   ],
   "source": [
    "domain_name(\"www.xakep.ru\")"
   ]
  },
  {
   "cell_type": "code",
   "execution_count": 20,
   "id": "fa996770",
   "metadata": {},
   "outputs": [
    {
     "data": {
      "text/plain": [
       "'youtube'"
      ]
     },
     "execution_count": 20,
     "metadata": {},
     "output_type": "execute_result"
    }
   ],
   "source": [
    "domain_name(\"https://youtube.com.jp\")"
   ]
  },
  {
   "cell_type": "code",
   "execution_count": null,
   "id": "4e78020f",
   "metadata": {},
   "outputs": [],
   "source": []
  }
 ],
 "metadata": {
  "kernelspec": {
   "display_name": "Python [conda env:m1_env] *",
   "language": "python",
   "name": "conda-env-m1_env-py"
  },
  "language_info": {
   "codemirror_mode": {
    "name": "ipython",
    "version": 3
   },
   "file_extension": ".py",
   "mimetype": "text/x-python",
   "name": "python",
   "nbconvert_exporter": "python",
   "pygments_lexer": "ipython3",
   "version": "3.9.16"
  }
 },
 "nbformat": 4,
 "nbformat_minor": 5
}
